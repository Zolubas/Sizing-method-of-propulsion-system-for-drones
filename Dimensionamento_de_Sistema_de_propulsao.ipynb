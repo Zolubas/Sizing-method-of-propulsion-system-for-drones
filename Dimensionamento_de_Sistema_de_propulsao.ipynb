{
 "cells": [
  {
   "cell_type": "code",
   "execution_count": 4,
   "metadata": {},
   "outputs": [],
   "source": [
    "import numpy as np\n",
    "import matplotlib.pyplot as plt\n",
    "\n",
    "def empuxo(RPM, d,pitch, V0, numero_de_motores):\n",
    "# O empuxo de um propeller dado um motor que fornece uma rotacação RPM\n",
    "# V0 = propeller forward airspeed , velocidade da hélice para a frente \n",
    "\n",
    "    return ((4.392399/10**(8))*RPM*((d**(3.5))/np.sqrt(pitch))*(4.23333*10**(-4)*RPM*pitch - V0))*numero_de_motores\n",
    "\n",
    "def empuxo_dada_a_tensao(V,KV, d,pitch, V0, numero_de_motores):\n",
    "    RPM = V*KV\n",
    "    return ((4.392399/10**(8))*RPM*((d**(3.5))/np.sqrt(pitch))*(4.23333*10**(-4)*RPM*pitch - V0))*numero_de_motores\n",
    "\n",
    "def V0_dado_um_teste_de_fabricante(F,d, pitch, v, KV):\n",
    "    RPM = KV*v\n",
    "    #-V0 = (F/((4.392399*10**-8)*RPM*(d**3.5)/np.sqrt(pitch))) - 4.2*(10**-4)*RPM*pitch\n",
    "    V0 = -(F/((4.392399*10**-8)*RPM*(d**3.5)/np.sqrt(pitch))) + 4.2*(10**-4)*RPM*pitch\n",
    "    return V0\n",
    "\n",
    "# ============== Dimensionamento =========================================\n",
    "# 1) diâmetro_max_propeller = aplicação(massa, tamanho do frame, taxa Empuxo-peso)\n",
    "# 2)\n",
    "def RPM(P,trust_to_weight_ratio , d,pitch, V0, numero_de_motores):\n",
    "    F = P*trust_to_weight_ratio\n",
    "    a = (4.392399/10**(8))*((d**(3.5))/np.sqrt(pitch))*(4.23333*10**(-4))*pitch\n",
    "    b = -(4.392399/10**(8))*((d**(3.5))/np.sqrt(pitch))*V0\n",
    "    c = - F/numero_de_motores\n",
    "    # 0 = a RPM²   - b RPM  - c\n",
    "    DELTA = b**(2) - 4*a*c\n",
    "    RPM1 = (-b + np.sqrt(DELTA))/(2*a)\n",
    "    #RPM2 = (-b - np.sqrt(DELTA))/(2*a)\n",
    "    #print(RPM1, RPM2)\n",
    "    return RPM1\n",
    "# 3) Escolha da tensão -> numero de celulas\n",
    "\n",
    "# 4)\n",
    "def motor(n_celulas,RPM):\n",
    "    V = 3.7\n",
    "    if(n_celulas == 1):\n",
    "        V = 3.7\n",
    "    if(n_celulas == 2):\n",
    "         V = 2*V\n",
    "    if(n_celulas == 3):\n",
    "        V = 3*V \n",
    "    if(n_celulas == 4):\n",
    "        V = 4*V\n",
    "        \n",
    "    KV = RPM/V\n",
    "    return KV\n",
    "\n",
    "# 5) i = pesquisa_na_net(KV_MOTOR)\n",
    "#6 ESC(V_motor, i_motor)\n",
    "#7) autonomia = Escolhemos uma aunotomia\n",
    "#8) \n",
    "\n",
    "\n",
    "def Bateria(v,autonomia_em_min,i_usual, imax, numero_de_motores):\n",
    "    autonomia_em_h = autonomia_em_min/60\n",
    "    i_usual_total = i_usual*numero_de_motores\n",
    "    carga = autonomia_em_h*i_usual_total*1000\n",
    "    C = (imax*numero_de_motores)/(carga/1000)\n",
    "    # print(\" Carga = \" +str(carga)+ \" mAh \" \" C = \" +str(C))\n",
    "    resposta = [carga, C]\n",
    "    return resposta\n",
    "\n",
    "    \n"
   ]
  },
  {
   "cell_type": "markdown",
   "metadata": {},
   "source": [
    "# Calculos iniciais\n"
   ]
  },
  {
   "cell_type": "code",
   "execution_count": 5,
   "metadata": {},
   "outputs": [
    {
     "name": "stdout",
     "output_type": "stream",
     "text": [
      "4.025769458447914\n"
     ]
    }
   ],
   "source": [
    "g = 10\n",
    "P = 1.7*g\n",
    "E = empuxo(14208,9.4,5,6,4) \n",
    "trust_to_weight_ratio = E/(P) \n",
    "print(trust_to_weight_ratio) "
   ]
  },
  {
   "cell_type": "code",
   "execution_count": 6,
   "metadata": {},
   "outputs": [
    {
     "data": {
      "text/plain": [
       "14207.999280651986"
      ]
     },
     "execution_count": 6,
     "metadata": {},
     "output_type": "execute_result"
    }
   ],
   "source": [
    "RPM(17,4.025769,9.4,5,6,4)"
   ]
  },
  {
   "cell_type": "code",
   "execution_count": 7,
   "metadata": {},
   "outputs": [
    {
     "data": {
      "text/plain": [
       "14207.999280651986"
      ]
     },
     "execution_count": 7,
     "metadata": {},
     "output_type": "execute_result"
    }
   ],
   "source": [
    "RPM(17,4.025769,9.4,5,6,4)"
   ]
  },
  {
   "cell_type": "code",
   "execution_count": 8,
   "metadata": {},
   "outputs": [
    {
     "data": {
      "text/plain": [
       "959.9999324324324"
      ]
     },
     "execution_count": 8,
     "metadata": {},
     "output_type": "execute_result"
    }
   ],
   "source": [
    "motor(4, 14207.999)"
   ]
  },
  {
   "cell_type": "code",
   "execution_count": 9,
   "metadata": {},
   "outputs": [
    {
     "data": {
      "text/plain": [
       "156.5069111957366"
      ]
     },
     "execution_count": 9,
     "metadata": {},
     "output_type": "execute_result"
    }
   ],
   "source": [
    "empuxo_dada_a_tensao(14.8,1290,10,4.7,6,4)"
   ]
  },
  {
   "cell_type": "code",
   "execution_count": 10,
   "metadata": {},
   "outputs": [
    {
     "data": {
      "text/plain": [
       "157.55093136440254"
      ]
     },
     "execution_count": 10,
     "metadata": {},
     "output_type": "execute_result"
    }
   ],
   "source": [
    "empuxo_dada_a_tensao(14.8,1200,10,6,6,4)"
   ]
  },
  {
   "cell_type": "code",
   "execution_count": 11,
   "metadata": {},
   "outputs": [
    {
     "data": {
      "text/plain": [
       "157.55093136440254"
      ]
     },
     "execution_count": 11,
     "metadata": {},
     "output_type": "execute_result"
    }
   ],
   "source": [
    "empuxo_dada_a_tensao(14.8,1200,10,6,6,4)"
   ]
  },
  {
   "cell_type": "code",
   "execution_count": 12,
   "metadata": {},
   "outputs": [
    {
     "data": {
      "text/plain": [
       "[3000.0, 26.666666666666668]"
      ]
     },
     "execution_count": 12,
     "metadata": {},
     "output_type": "execute_result"
    }
   ],
   "source": [
    "Bateria(14.8,12,15/4,20,4)\n"
   ]
  },
  {
   "cell_type": "code",
   "execution_count": 13,
   "metadata": {},
   "outputs": [
    {
     "data": {
      "text/plain": [
       "[6666.666666666666, 12.000000000000002]"
      ]
     },
     "execution_count": 13,
     "metadata": {},
     "output_type": "execute_result"
    }
   ],
   "source": [
    "Bateria(14.8,20,20/4,20,4)"
   ]
  },
  {
   "cell_type": "code",
   "execution_count": 14,
   "metadata": {},
   "outputs": [
    {
     "data": {
      "text/plain": [
       "[5000.0, 8.0]"
      ]
     },
     "execution_count": 14,
     "metadata": {},
     "output_type": "execute_result"
    }
   ],
   "source": [
    "Bateria(11.1,15,20/4,10,4)"
   ]
  },
  {
   "cell_type": "code",
   "execution_count": 15,
   "metadata": {},
   "outputs": [
    {
     "name": "stdout",
     "output_type": "stream",
     "text": [
      "104.3635570159809\n",
      "2.6090889253995226\n"
     ]
    },
    {
     "data": {
      "text/plain": [
       "19091.999999999996"
      ]
     },
     "execution_count": 15,
     "metadata": {},
     "output_type": "execute_result"
    }
   ],
   "source": [
    "v0 = V0_dado_um_teste_de_fabricante(10*1065/1000,10, 4.7, 11.1, 1290)\n",
    "empuxo = empuxo_dada_a_tensao(14.8,1290, 10,4.7, v0, 4)\n",
    "print(empuxo)\n",
    "m_cm_taxa_4 = (empuxo/4)/10\n",
    "print(m_cm_taxa_4)\n",
    "RPM(m_cm_taxa_4*10,4, 10,4.7, v0, 4)"
   ]
  },
  {
   "cell_type": "markdown",
   "metadata": {},
   "source": [
    "# Requisitos de Projeto"
   ]
  },
  {
   "cell_type": "markdown",
   "metadata": {},
   "source": [
    "## 1) Caluclo do RPM dada um propeller"
   ]
  },
  {
   "cell_type": "code",
   "execution_count": 16,
   "metadata": {},
   "outputs": [
    {
     "name": "stdout",
     "output_type": "stream",
     "text": [
      "Masssa drone = 1.9997 kg \n",
      "\n",
      "Velocidade ang =14298.0 rpm -- opção 0\n",
      "Velocidade ang =12466.0 rpm -- opção 1\n",
      "Velocidade ang =13355.0 rpm -- opção 2\n",
      "Velocidade ang =18898.0 rpm -- opção 3\n",
      "Velocidade ang =13355.0 rpm -- opção 4\n",
      "Velocidade ang =15476.0 rpm -- opção 5\n"
     ]
    }
   ],
   "source": [
    "#  RPM(P,trust_to_weight_ratio , d,pitch, V0, numero_de_motores):\n",
    "m_bateria_inicial = 554\n",
    "m_drone = 929 + m_bateria_inicial + 14.5 + 2.7 + 2 + ((105 + 190)/2) + 10 + 250 + 90\n",
    "m_drone = m_drone/1000\n",
    "print(\"Masssa drone = \" +str(m_drone)+ \" kg \")\n",
    "print()\n",
    "g = 10\n",
    "# valroes uteis:\n",
    "P_drone = m_drone*g\n",
    "trust_to_weight_ratio = 4 \n",
    "V0 = 6\n",
    "numero_de_motores = 4\n",
    "\n",
    "d = [9,10,10,8,10,9] \n",
    "pitch = [6,5.5,4.5,4.5,4.5,4.7]\n",
    "rpm = []\n",
    "\n",
    "# for i in range(len(pitch)):\n",
    "for i in range(len(pitch)):\n",
    "    rpm.append(RPM(P,trust_to_weight_ratio , d[i], pitch[i], V0, numero_de_motores))\n",
    "    print(\"Velocidade ang =\" +str(round(rpm[i])) + \" rpm\" + \" -- opção \" + str(i))   \n",
    "#numero = np.arange(0, len(pitch), 1)\n",
    "#plt.plot(numero,rpm,color = 'red',linewidth=4,label=\"Circuito Completo\")\n",
    "\n"
   ]
  },
  {
   "cell_type": "markdown",
   "metadata": {},
   "source": [
    "## 2) Escolha uma tensão\n",
    "Escolhemos 3s ou 4s , isto é, 11.1 ou 14.8\n",
    "\n",
    "## 3) Definindo-se o motor pelo KV"
   ]
  },
  {
   "cell_type": "code",
   "execution_count": 17,
   "metadata": {},
   "outputs": [
    {
     "name": "stdout",
     "output_type": "stream",
     "text": [
      "Bateriu 3S\n",
      "\n",
      "KV =1288.0 -- opção 0\n",
      "KV =1123.0 -- opção 1\n",
      "KV =1203.0 -- opção 2\n",
      "KV =1703.0 -- opção 3\n",
      "KV =1203.0 -- opção 4\n",
      "KV =1394.0 -- opção 5\n",
      "\n",
      "Bateriu 4S\n",
      "\n",
      "KV =966.0 -- opção 0\n",
      "KV =842.0 -- opção 1\n",
      "KV =902.0 -- opção 2\n",
      "KV =1277.0 -- opção 3\n",
      "KV =902.0 -- opção 4\n",
      "KV =1046.0 -- opção 5\n",
      "\n",
      "Comprar com folga pra cima\n"
     ]
    }
   ],
   "source": [
    "# Motor 3S\n",
    "print(\"Bateriu 3S\")\n",
    "print()\n",
    "KV = []\n",
    "for i in range(len(pitch)):\n",
    "    KV.append(motor(3,rpm[i]))\n",
    "    print(\"KV =\" +str(round(KV[i])) + \" -- opção \" + str(i) ) \n",
    "# 4S\n",
    "print()\n",
    "print(\"Bateriu 4S\")\n",
    "print()\n",
    "KV = []\n",
    "for i in range(len(pitch)):\n",
    "    KV.append(motor(4,rpm[i]))\n",
    "    print(\"KV =\" +str(round(KV[i])) + \" -- opção \" + str(i) ) \n",
    "print()    \n",
    "print(\"Comprar com folga pra cima\")"
   ]
  },
  {
   "cell_type": "markdown",
   "metadata": {},
   "source": [
    "### 5) i = pesquisa_na_net(KV_MOTOR)\n",
    "[Motor 1](https://www.banggood.com/pt/Racerstar-BR2826-1290KV-2-4S-Brushless-Motor-For-RC-Models-p-1114330.html?rmmds=detail-bottom-alsobought__5&cur_warehouse=CN)\n",
    "\n",
    "[Motor 2](https://www.banggood.com/pt/Flash-Hobby-D3542-1000KV-1250KV-1450KV-2-4S-Brushless-Motor-For-RC-Airplane-p-1628286.html?rmmds=detail-bottom-alsobought__8&ID=517699&cur_warehouse=CN)\n",
    "\n",
    "[Motor 3](https://www.banggood.com/pt/Racerstar-BR3536-1200KV-2-4S-Brushless-Motor-For-FPV-RC-Airplane-Model-p-1384219.html?rmmds=detail-left-hotproducts__5&cur_warehouse=USA)\n",
    "\n",
    "[Motor 4](https://www.rcpapa.com/collections/drone-motors/products/t-motor-f60-pro-iv-1950-2552kv-fpv-quad-motor)\n",
    "\n",
    "[Motor 5](https://www.banggood.com/pt/Racerstar-BR2826-1290KV-2-4S-Brushless-Motor-For-RC-Models-p-1114330.html?rmmds=detail-bottom-alsobought__5&cur_warehouse=CN)\n",
    "\n",
    "[Motor 6](https://www.racerstar.com/racerstar-br3536-1200kv-2-4s-brushless-motor-for-fpv-rc-airplane-model-p-298.html)\n",
    "\n",
    "[Motor 7](https://www.racerstar.com/racerstar-br2814-1400kv-3-4s-brushless-motor-for-rc-airplane-model-p-291.html)\n"
   ]
  },
  {
   "cell_type": "code",
   "execution_count": 18,
   "metadata": {},
   "outputs": [
    {
     "name": "stdout",
     "output_type": "stream",
     "text": [
      "[4.26 3.2  5.68 5.68 5.4  5.04 5.44 6.32 4.52 5.24 7.8  9.2 ]\n",
      "[4.26 3.2  5.68 5.68 5.4  5.04 5.44 6.32 4.52 5.24 7.8  9.2 ]\n"
     ]
    }
   ],
   "source": [
    "numero     = [  1 ,    2,   3,    4,    5,    6,   7,    8,    9,   10,    11,  12]\n",
    "Motor      = [1.1 ,  1.2, 2.1, 2.2 , 2.3 , 2.4 ,3.1 , 3.2 , 5.1 ,5.2  , 7.1  ,7.2  ]\n",
    "propellers = [1045, 9045,1250, 1170, 8070, 1060,1150, 1060, 9050, 1045, 9060 ,8050]\n",
    "tensoes    = [11.1, 11.1, 7.4, 14.8, 4.7 , 7.4 ,11.1, 11.1, 11.1, 14.8, 11.1 ,14.8 ]\n",
    "corrente   = [16.6, 13.8,  80, 46.5, 90  , 74  , 26 , 35  , 21.5, 29  , 47.5 ,58   ]\n",
    "massa_g   = [1065, 800 ,1420, 1420, 1350, 1260,1360, 1580, 1130, 1310, 1950 ,2300]\n",
    "\n",
    "\n",
    "Empuxo_taxa_3 = np.dot(4/1000,massa_g)\n",
    "print(Empuxo_taxa_3)\n",
    "\n",
    "Empuxo_taxa_4 = np.dot(4/1000,massa_g)\n",
    "print(Empuxo_taxa_4)\n"
   ]
  },
  {
   "cell_type": "markdown",
   "metadata": {},
   "source": [
    "### 6 ESC(V_motor, i_motor)\n",
    "### 7) autonomia = Escolhemos uma aunotomia\n",
    "queremos 12 min\n",
    "### 8) Bateria"
   ]
  },
  {
   "cell_type": "code",
   "execution_count": 19,
   "metadata": {},
   "outputs": [
    {
     "name": "stdout",
     "output_type": "stream",
     "text": [
      "Carga =4300.0mAh /C = 15.0/ V = 11.1 v /kg_3 = 4.0 / kg_4 =  4.0 -- opção 0\n"
     ]
    },
    {
     "ename": "IndexError",
     "evalue": "index 1 is out of bounds for axis 0 with size 1",
     "output_type": "error",
     "traceback": [
      "\u001b[1;31m---------------------------------------------------------------------------\u001b[0m",
      "\u001b[1;31mIndexError\u001b[0m                                Traceback (most recent call last)",
      "\u001b[1;32m<ipython-input-19-9c50503e8803>\u001b[0m in \u001b[0;36m<module>\u001b[1;34m\u001b[0m\n\u001b[0;32m      7\u001b[0m \u001b[0mvalores\u001b[0m \u001b[1;33m=\u001b[0m \u001b[1;33m[\u001b[0m\u001b[1;33m]\u001b[0m\u001b[1;33m\u001b[0m\u001b[1;33m\u001b[0m\u001b[0m\n\u001b[0;32m      8\u001b[0m \u001b[1;32mfor\u001b[0m \u001b[0mi\u001b[0m \u001b[1;32min\u001b[0m \u001b[0mrange\u001b[0m\u001b[1;33m(\u001b[0m\u001b[0mlen\u001b[0m\u001b[1;33m(\u001b[0m\u001b[0mv\u001b[0m\u001b[1;33m)\u001b[0m\u001b[1;33m)\u001b[0m\u001b[1;33m:\u001b[0m\u001b[1;33m\u001b[0m\u001b[1;33m\u001b[0m\u001b[0m\n\u001b[1;32m----> 9\u001b[1;33m     \u001b[0mvalores\u001b[0m\u001b[1;33m.\u001b[0m\u001b[0mappend\u001b[0m\u001b[1;33m(\u001b[0m\u001b[0mBateria\u001b[0m\u001b[1;33m(\u001b[0m\u001b[0mv\u001b[0m\u001b[1;33m[\u001b[0m\u001b[0mi\u001b[0m\u001b[1;33m]\u001b[0m\u001b[1;33m,\u001b[0m\u001b[0mautonomia_em_min\u001b[0m\u001b[1;33m,\u001b[0m\u001b[0mi_usual\u001b[0m\u001b[1;33m[\u001b[0m\u001b[0mi\u001b[0m\u001b[1;33m]\u001b[0m\u001b[1;33m,\u001b[0m \u001b[0mimax\u001b[0m\u001b[1;33m[\u001b[0m\u001b[0mi\u001b[0m\u001b[1;33m]\u001b[0m\u001b[1;33m,\u001b[0m \u001b[0mnumero_de_motores\u001b[0m\u001b[1;33m)\u001b[0m\u001b[1;33m)\u001b[0m\u001b[1;33m\u001b[0m\u001b[1;33m\u001b[0m\u001b[0m\n\u001b[0m\u001b[0;32m     10\u001b[0m     \u001b[0mprint\u001b[0m\u001b[1;33m(\u001b[0m\u001b[1;34m\"Carga =\"\u001b[0m \u001b[1;33m+\u001b[0m \u001b[0mstr\u001b[0m\u001b[1;33m(\u001b[0m\u001b[0mround\u001b[0m\u001b[1;33m(\u001b[0m\u001b[0mvalores\u001b[0m\u001b[1;33m[\u001b[0m\u001b[0mi\u001b[0m\u001b[1;33m]\u001b[0m\u001b[1;33m[\u001b[0m\u001b[1;36m0\u001b[0m\u001b[1;33m]\u001b[0m\u001b[1;33m)\u001b[0m\u001b[1;33m)\u001b[0m\u001b[1;33m+\u001b[0m \u001b[1;34m\"mAh /\"\u001b[0m \u001b[1;33m+\u001b[0m\u001b[1;34m\"C = \"\u001b[0m\u001b[1;33m+\u001b[0m \u001b[0mstr\u001b[0m\u001b[1;33m(\u001b[0m\u001b[0mround\u001b[0m\u001b[1;33m(\u001b[0m\u001b[0mvalores\u001b[0m\u001b[1;33m[\u001b[0m\u001b[0mi\u001b[0m\u001b[1;33m]\u001b[0m\u001b[1;33m[\u001b[0m\u001b[1;36m1\u001b[0m\u001b[1;33m]\u001b[0m\u001b[1;33m)\u001b[0m\u001b[1;33m)\u001b[0m \u001b[1;33m+\u001b[0m\u001b[1;34m\"/ V = \"\u001b[0m \u001b[1;33m+\u001b[0m \u001b[0mstr\u001b[0m\u001b[1;33m(\u001b[0m\u001b[0mv\u001b[0m\u001b[1;33m[\u001b[0m\u001b[0mi\u001b[0m\u001b[1;33m]\u001b[0m\u001b[1;33m)\u001b[0m\u001b[1;33m+\u001b[0m\u001b[1;34m\" v /\"\u001b[0m \u001b[1;33m+\u001b[0m\u001b[1;34m\"kg_3 = \"\u001b[0m\u001b[1;33m+\u001b[0m \u001b[0mstr\u001b[0m\u001b[1;33m(\u001b[0m\u001b[0mround\u001b[0m\u001b[1;33m(\u001b[0m\u001b[0mEmpuxo_taxa_3\u001b[0m\u001b[1;33m[\u001b[0m\u001b[0mi\u001b[0m\u001b[1;33m]\u001b[0m\u001b[1;33m)\u001b[0m\u001b[1;33m)\u001b[0m \u001b[1;33m+\u001b[0m\u001b[1;34m\" / kg_4 =  \"\u001b[0m\u001b[1;33m+\u001b[0m\u001b[0mstr\u001b[0m\u001b[1;33m(\u001b[0m\u001b[0mround\u001b[0m\u001b[1;33m(\u001b[0m\u001b[0mEmpuxo_taxa_4\u001b[0m\u001b[1;33m[\u001b[0m\u001b[0mi\u001b[0m\u001b[1;33m]\u001b[0m\u001b[1;33m)\u001b[0m\u001b[1;33m)\u001b[0m \u001b[1;33m+\u001b[0m \u001b[1;34m\" -- opção \"\u001b[0m \u001b[1;33m+\u001b[0m \u001b[0mstr\u001b[0m\u001b[1;33m(\u001b[0m\u001b[0mi\u001b[0m\u001b[1;33m)\u001b[0m\u001b[1;33m)\u001b[0m\u001b[1;33m\u001b[0m\u001b[1;33m\u001b[0m\u001b[0m\n\u001b[0;32m     11\u001b[0m \u001b[1;33m\u001b[0m\u001b[0m\n",
      "\u001b[1;31mIndexError\u001b[0m: index 1 is out of bounds for axis 0 with size 1"
     ]
    }
   ],
   "source": [
    "autonomia_em_min = 12\n",
    "# i_usual = \"fudeu\"\n",
    "i_usual = np.dot((1/4),imax)\n",
    "v = [11.1, 11.1, 7.4, 14.8, 4.7 , 7.4 ,11.1, 11.1, 11.1, 14.8, 11.1,14.8 ]\n",
    "imax = [16.6, 13.8,  80, 46.5, 90  , 74  , 26 , 35  , 21.5, 29  , 47.5,58 ]\n",
    "numero_de_motores = 4\n",
    "valores = []\n",
    "for i in range(len(v)):\n",
    "    valores.append(Bateria(v[i],autonomia_em_min,i_usual[i], imax[i], numero_de_motores))\n",
    "    print(\"Carga =\" + str(round(valores[i][0]))+ \"mAh /\" +\"C = \"+ str(round(valores[i][1])) +\"/ V = \" + str(v[i])+\" v /\" +\"kg_3 = \"+ str(round(Empuxo_taxa_3[i])) +\" / kg_4 =  \"+str(round(Empuxo_taxa_4[i])) + \" -- opção \" + str(i)) \n",
    "    \n",
    "    "
   ]
  },
  {
   "cell_type": "markdown",
   "metadata": {},
   "source": [
    "### 9) Estimativa da estimativa do consumo da eletrônica\n"
   ]
  },
  {
   "cell_type": "code",
   "execution_count": 20,
   "metadata": {},
   "outputs": [
    {
     "name": "stdout",
     "output_type": "stream",
     "text": [
      "No drone SKY3100 = 1000.0mAh\n"
     ]
    }
   ],
   "source": [
    "Bateria_atual = 6000\n",
    "consumo_da_eletronica = Bateria_atual - Bateria(14.8,20,15/4, 20, 4)[0]\n",
    "print(\"No drone SKY3100 = \" + str(consumo_da_eletronica) + \"mAh\")"
   ]
  },
  {
   "cell_type": "markdown",
   "metadata": {},
   "source": [
    "Com os upgrades:"
   ]
  },
  {
   "cell_type": "code",
   "execution_count": 21,
   "metadata": {},
   "outputs": [
    {
     "name": "stdout",
     "output_type": "stream",
     "text": [
      "upgrades = 1.624mAh\n"
     ]
    }
   ],
   "source": [
    "t = 12/60\n",
    "jetson_nano = 2*t\n",
    "odroid = 4*t \n",
    "lidar_rotativo = 2*t\n",
    "camera_termica = 0.120*t \n",
    "upgrades_carga_consumida = jetson_nano + odroid + lidar_rotativo + camera_termica\n",
    "print(\"upgrades = \" + str(upgrades_carga_consumida) + \"mAh\")"
   ]
  },
  {
   "cell_type": "markdown",
   "metadata": {},
   "source": [
    "Consumo tota da eletronica = 1000mAh"
   ]
  },
  {
   "cell_type": "markdown",
   "metadata": {},
   "source": [
    "# Drone Swarm\n",
    "* Frame 300 mm\n",
    "* Massa caixa = 1kg\n",
    "\n",
    "1) Motor Normal\n",
    "* 2 Blade\n",
    "* Max prop size= 8\"\n",
    "* Massa drone = 1.230 Kg\n",
    "\n",
    "* Numero de drones = 2\n",
    "* Massa suportada por drone = 1.73 kg\n",
    "* thrust_to_weight_ratio = 2.9\n",
    "* Precisa levantar = 5 Kg\n",
    "* Motor + Propeller = 1250g\n",
    "* M_para-corrente-média = 500\n",
    "\n",
    "2) Motor racer\n",
    "* 3 Blade\n",
    "* Max prop size= 8\"\n",
    "* Massa drone = 0.930 Kg\n",
    "\n",
    "* Numero de drones = 2\n",
    "* Massa suportada por drone = 1.43 kg\n",
    "* thrust_to_weight_ratio = 2.9\n",
    "* Precisa levantar = 4.2 Kg\n",
    "* Motor + Propeller = 1050 g\n",
    "* M_para-corrente-média = 420"
   ]
  },
  {
   "cell_type": "code",
   "execution_count": 41,
   "metadata": {},
   "outputs": [
    {
     "name": "stdout",
     "output_type": "stream",
     "text": [
      "Carga =4003mAh /C = 21/ V = 14.8 v /kg_3 = 4.0 / kg_4 =  4.0 -- opção 0\n",
      "Carga =3950mAh /C = 38/ V = 11.1 v /kg_3 = 3.0 / kg_4 =  3.0 -- opção 1\n"
     ]
    }
   ],
   "source": [
    "autonomia_em_min = 7.9\n",
    "6.5\n",
    "\n",
    "# i_usual =. \"fudeu\"\n",
    "i_usual = [7.6, 7.5] #np.dot((1/4),imax)\n",
    "v = [14.8, 11.1]\n",
    "imax = [21.5, 38]\n",
    "numero_de_motores = 4\n",
    "valores = []\n",
    "for i in range(len(v)):\n",
    "    valores.append(Bateria(v[i],autonomia_em_min,i_usual[i], imax[i], numero_de_motores))\n",
    "    print(\"Carga =\" + str(round(valores[i][0]))+ \"mAh /\" +\"C = \"+ str(round(valores[i][1])) +\"/ V = \" + str(v[i])+\" v /\" +\"kg_3 = \"+ str(round(Empuxo_taxa_3[i])) +\" / kg_4 =  \"+str(round(Empuxo_taxa_4[i])) + \" -- opção \" + str(i)) \n",
    "    "
   ]
  },
  {
   "cell_type": "code",
   "execution_count": null,
   "metadata": {},
   "outputs": [],
   "source": []
  },
  {
   "cell_type": "code",
   "execution_count": null,
   "metadata": {},
   "outputs": [],
   "source": []
  },
  {
   "cell_type": "code",
   "execution_count": null,
   "metadata": {},
   "outputs": [],
   "source": []
  }
 ],
 "metadata": {
  "kernelspec": {
   "display_name": "Python 3",
   "language": "python",
   "name": "python3"
  },
  "language_info": {
   "codemirror_mode": {
    "name": "ipython",
    "version": 3
   },
   "file_extension": ".py",
   "mimetype": "text/x-python",
   "name": "python",
   "nbconvert_exporter": "python",
   "pygments_lexer": "ipython3",
   "version": "3.7.3"
  }
 },
 "nbformat": 4,
 "nbformat_minor": 2
}
