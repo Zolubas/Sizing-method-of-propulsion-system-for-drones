{
 "cells": [
  {
   "cell_type": "code",
   "execution_count": 422,
   "metadata": {},
   "outputs": [],
   "source": [
    "import numpy as np\n",
    "import matplotlib.pyplot as plt\n",
    "\n",
    "def empuxo(RPM, d,pitch, V0, numero_de_motores):\n",
    "# O empuxo de um propeller dado um motor que fornece uma rotacação RPM\n",
    "# V0 = propeller forward airspeed , velocidade da hélice para a frente \n",
    "\n",
    "    return ((4.392399/10**(8))*RPM*((d**(3.5))/np.sqrt(pitch))*(4.23333*10**(-4)*RPM*pitch - V0))*numero_de_motores\n",
    "\n",
    "def empuxo_dada_a_tensao(V,KV, d,pitch, V0, numero_de_motores):\n",
    "    RPM = V*KV\n",
    "    return ((4.392399/10**(8))*RPM*((d**(3.5))/np.sqrt(pitch))*(4.23333*10**(-4)*RPM*pitch - V0))*numero_de_motores\n",
    "\n",
    "def V0_dado_um_teste_de_fabricante(F,d, pitch, v, KV):\n",
    "    RPM = KV*v\n",
    "    #-V0 = (F/((4.392399*10**-8)*RPM*(d**3.5)/np.sqrt(pitch))) - 4.2*(10**-4)*RPM*pitch\n",
    "    V0 = -(F/((4.392399*10**-8)*RPM*(d**3.5)/np.sqrt(pitch))) + 4.2*(10**-4)*RPM*pitch\n",
    "    return V0\n",
    "\n",
    "# ============== Dimensionamento =========================================\n",
    "# 1) diâmetro_max_propeller = aplicação(massa, tamanho do frame, taxa Empuxo-peso)\n",
    "# 2)\n",
    "def RPM(P,trust_to_weight_ratio , d,pitch, V0, numero_de_motores):\n",
    "    F = P*trust_to_weight_ratio\n",
    "    a = (4.392399/10**(8))*((d**(3.5))/np.sqrt(pitch))*(4.23333*10**(-4))*pitch\n",
    "    b = -(4.392399/10**(8))*((d**(3.5))/np.sqrt(pitch))*V0\n",
    "    c = - F/numero_de_motores\n",
    "    # 0 = a RPM²   - b RPM  - c\n",
    "    DELTA = b**(2) - 4*a*c\n",
    "    RPM1 = (-b + np.sqrt(DELTA))/(2*a)\n",
    "    #RPM2 = (-b - np.sqrt(DELTA))/(2*a)\n",
    "    #print(RPM1, RPM2)\n",
    "    return RPM1\n",
    "# 3) Escolha da tensão -> numero de celulas\n",
    "\n",
    "# 4)\n",
    "def motor(n_celulas,RPM):\n",
    "    V = 3.7\n",
    "    if(n_celulas == 1):\n",
    "        V = 3.7\n",
    "    if(n_celulas == 2):\n",
    "         V = 2*V\n",
    "    if(n_celulas == 3):\n",
    "        V = 3*V \n",
    "    if(n_celulas == 4):\n",
    "        V = 4*V\n",
    "        \n",
    "    KV = RPM/V\n",
    "    return KV\n",
    "\n",
    "# 5) i = pesquisa_na_net(KV_MOTOR)\n",
    "#6 ESC(V_motor, i_motor)\n",
    "#7) autonomia = Escolhemos uma aunotomia\n",
    "#8) \n",
    "\n",
    "\n",
    "def Bateria(v,autonomia_em_min,i_usual, imax, numero_de_motores):\n",
    "    autonomia_em_h = autonomia_em_min/60\n",
    "    i_usual_total = i_usual*numero_de_motores\n",
    "    carga = autonomia_em_h*i_usual_total*1000\n",
    "    C = (imax*numero_de_motores)/(carga/1000)\n",
    "    # print(\" Carga = \" +str(carga)+ \" mAh \" \" C = \" +str(C))\n",
    "    resposta = [carga, C]\n",
    "    return resposta\n",
    "\n",
    "    \n"
   ]
  },
  {
   "cell_type": "markdown",
   "metadata": {},
   "source": [
    "# Calculos iniciais\n"
   ]
  },
  {
   "cell_type": "code",
   "execution_count": 290,
   "metadata": {},
   "outputs": [
    {
     "name": "stdout",
     "output_type": "stream",
     "text": [
      "4.025769458447914\n"
     ]
    }
   ],
   "source": [
    "g = 10\n",
    "P = 1.7*g\n",
    "E = empuxo(14208,9.4,5,6,4) \n",
    "trust_to_weight_ratio = E/(P) \n",
    "print(trust_to_weight_ratio) "
   ]
  },
  {
   "cell_type": "code",
   "execution_count": 291,
   "metadata": {},
   "outputs": [
    {
     "data": {
      "text/plain": [
       "14207.999280651986"
      ]
     },
     "execution_count": 291,
     "metadata": {},
     "output_type": "execute_result"
    }
   ],
   "source": [
    "RPM(17,4.025769,9.4,5,6,4)"
   ]
  },
  {
   "cell_type": "code",
   "execution_count": 292,
   "metadata": {},
   "outputs": [
    {
     "data": {
      "text/plain": [
       "14207.999280651986"
      ]
     },
     "execution_count": 292,
     "metadata": {},
     "output_type": "execute_result"
    }
   ],
   "source": [
    "RPM(17,4.025769,9.4,5,6,4)"
   ]
  },
  {
   "cell_type": "code",
   "execution_count": 293,
   "metadata": {},
   "outputs": [
    {
     "data": {
      "text/plain": [
       "959.9999324324324"
      ]
     },
     "execution_count": 293,
     "metadata": {},
     "output_type": "execute_result"
    }
   ],
   "source": [
    "motor(4, 14207.999)"
   ]
  },
  {
   "cell_type": "code",
   "execution_count": 294,
   "metadata": {},
   "outputs": [
    {
     "data": {
      "text/plain": [
       "156.5069111957366"
      ]
     },
     "execution_count": 294,
     "metadata": {},
     "output_type": "execute_result"
    }
   ],
   "source": [
    "empuxo_dada_a_tensao(14.8,1290,10,4.7,6,4)"
   ]
  },
  {
   "cell_type": "code",
   "execution_count": 295,
   "metadata": {},
   "outputs": [
    {
     "data": {
      "text/plain": [
       "157.55093136440254"
      ]
     },
     "execution_count": 295,
     "metadata": {},
     "output_type": "execute_result"
    }
   ],
   "source": [
    "empuxo_dada_a_tensao(14.8,1200,10,6,6,4)"
   ]
  },
  {
   "cell_type": "code",
   "execution_count": 296,
   "metadata": {},
   "outputs": [
    {
     "data": {
      "text/plain": [
       "157.55093136440254"
      ]
     },
     "execution_count": 296,
     "metadata": {},
     "output_type": "execute_result"
    }
   ],
   "source": [
    "empuxo_dada_a_tensao(14.8,1200,10,6,6,4)"
   ]
  },
  {
   "cell_type": "code",
   "execution_count": 408,
   "metadata": {},
   "outputs": [
    {
     "data": {
      "text/plain": [
       "[3000.0, 26.666666666666668]"
      ]
     },
     "execution_count": 408,
     "metadata": {},
     "output_type": "execute_result"
    }
   ],
   "source": [
    "Bateria(14.8,12,15/4,20,4)\n"
   ]
  },
  {
   "cell_type": "code",
   "execution_count": 409,
   "metadata": {},
   "outputs": [
    {
     "data": {
      "text/plain": [
       "[6666.666666666666, 12.000000000000002]"
      ]
     },
     "execution_count": 409,
     "metadata": {},
     "output_type": "execute_result"
    }
   ],
   "source": [
    "Bateria(14.8,20,20/4,20,4)"
   ]
  },
  {
   "cell_type": "code",
   "execution_count": 415,
   "metadata": {},
   "outputs": [
    {
     "data": {
      "text/plain": [
       "[5000.0, 8.0]"
      ]
     },
     "execution_count": 415,
     "metadata": {},
     "output_type": "execute_result"
    }
   ],
   "source": [
    "Bateria(11.1,15,20/4,10,4)"
   ]
  },
  {
   "cell_type": "markdown",
   "metadata": {},
   "source": [
    "# Requisitos de Projeto"
   ]
  },
  {
   "cell_type": "markdown",
   "metadata": {},
   "source": [
    "## 1) Caluclo do RPM dada um propeller"
   ]
  },
  {
   "cell_type": "code",
   "execution_count": 331,
   "metadata": {},
   "outputs": [
    {
     "name": "stdout",
     "output_type": "stream",
     "text": [
      "Masssa drone = 1.9997 kg \n",
      "\n",
      "Velocidade ang =14298.0 rpm -- opção 0\n",
      "Velocidade ang =12466.0 rpm -- opção 1\n",
      "Velocidade ang =13355.0 rpm -- opção 2\n",
      "Velocidade ang =18898.0 rpm -- opção 3\n",
      "Velocidade ang =13355.0 rpm -- opção 4\n",
      "Velocidade ang =15476.0 rpm -- opção 5\n"
     ]
    }
   ],
   "source": [
    "#  RPM(P,trust_to_weight_ratio , d,pitch, V0, numero_de_motores):\n",
    "m_bateria_inicial = 554\n",
    "m_drone = 929 + m_bateria_inicial + 14.5 + 2.7 + 2 + ((105 + 190)/2) + 10 + 250 + 90\n",
    "m_drone = m_drone/1000\n",
    "print(\"Masssa drone = \" +str(m_drone)+ \" kg \")\n",
    "print()\n",
    "g = 10\n",
    "# valroes uteis:\n",
    "P_drone = m_drone*g\n",
    "trust_to_weight_ratio = 4 \n",
    "V0 = 6\n",
    "numero_de_motores = 4\n",
    "\n",
    "d = [9,10,10,8,10,9] \n",
    "pitch = [6,5.5,4.5,4.5,4.5,4.7]\n",
    "rpm = []\n",
    "\n",
    "# for i in range(len(pitch)):\n",
    "for i in range(len(pitch)):\n",
    "    rpm.append(RPM(P,trust_to_weight_ratio , d[i], pitch[i], V0, numero_de_motores))\n",
    "    print(\"Velocidade ang =\" +str(round(rpm[i])) + \" rpm\" + \" -- opção \" + str(i))   \n",
    "#numero = np.arange(0, len(pitch), 1)\n",
    "#plt.plot(numero,rpm,color = 'red',linewidth=4,label=\"Circuito Completo\")\n",
    "\n"
   ]
  },
  {
   "cell_type": "markdown",
   "metadata": {},
   "source": [
    "## 2) Escolha uma tensão\n",
    "Escolhemos 3s ou 4s , isto é, 11.1 ou 14.8\n",
    "\n",
    "## 3) Definindo-se o motor pelo KV"
   ]
  },
  {
   "cell_type": "code",
   "execution_count": 339,
   "metadata": {},
   "outputs": [
    {
     "name": "stdout",
     "output_type": "stream",
     "text": [
      "Bateriu 3S\n",
      "\n",
      "KV =1288.0 -- opção 0\n",
      "KV =1123.0 -- opção 1\n",
      "KV =1203.0 -- opção 2\n",
      "KV =1703.0 -- opção 3\n",
      "KV =1203.0 -- opção 4\n",
      "KV =1394.0 -- opção 5\n",
      "\n",
      "Bateriu 4S\n",
      "\n",
      "KV =966.0 -- opção 0\n",
      "KV =842.0 -- opção 1\n",
      "KV =902.0 -- opção 2\n",
      "KV =1277.0 -- opção 3\n",
      "KV =902.0 -- opção 4\n",
      "KV =1046.0 -- opção 5\n",
      "\n",
      "Comprar com folga pra cima\n"
     ]
    }
   ],
   "source": [
    "# Motor 3S\n",
    "print(\"Bateriu 3S\")\n",
    "print()\n",
    "KV = []\n",
    "for i in range(len(pitch)):\n",
    "    KV.append(motor(3,rpm[i]))\n",
    "    print(\"KV =\" +str(round(KV[i])) + \" -- opção \" + str(i) ) \n",
    "# 4S\n",
    "print()\n",
    "print(\"Bateriu 4S\")\n",
    "print()\n",
    "KV = []\n",
    "for i in range(len(pitch)):\n",
    "    KV.append(motor(4,rpm[i]))\n",
    "    print(\"KV =\" +str(round(KV[i])) + \" -- opção \" + str(i) ) \n",
    "print()    \n",
    "print(\"Comprar com folga pra cima\")"
   ]
  },
  {
   "cell_type": "markdown",
   "metadata": {},
   "source": [
    "### 5) i = pesquisa_na_net(KV_MOTOR)\n",
    "### 6 ESC(V_motor, i_motor)\n",
    "### 7) autonomia = Escolhemos uma aunotomia\n",
    "queremos 12 min\n",
    "### 8) Bateria"
   ]
  },
  {
   "cell_type": "code",
   "execution_count": 427,
   "metadata": {},
   "outputs": [
    {
     "name": "stdout",
     "output_type": "stream",
     "text": [
      "[Carga, C] =[16000.0, 7.0] mAh , admensional -- opção 0\n",
      "[Carga, C] =[16000.0, 5.0] mAh , admensional -- opção 1\n"
     ]
    }
   ],
   "source": [
    "autonomia_em_min = 12\n",
    "# i_usual = \"fudeu\"\n",
    "i_usual = 20\n",
    "v = [14.8,14.8]\n",
    "imax = [28,20]\n",
    "numero_de_motores = 4\n",
    "valores = []\n",
    "for i in range(len(v)):\n",
    "    valores.append(Bateria(v[i],autonomia_em_min,i_usual, imax[i], numero_de_motores))\n",
    "    print(\"[Carga, C] =\" + str(valores[i]) + \" mAh , admensional\" + \" -- opção \" + str(i)) \n",
    "    \n",
    "    "
   ]
  },
  {
   "cell_type": "code",
   "execution_count": null,
   "metadata": {},
   "outputs": [],
   "source": []
  }
 ],
 "metadata": {
  "kernelspec": {
   "display_name": "Python 3",
   "language": "python",
   "name": "python3"
  },
  "language_info": {
   "codemirror_mode": {
    "name": "ipython",
    "version": 3
   },
   "file_extension": ".py",
   "mimetype": "text/x-python",
   "name": "python",
   "nbconvert_exporter": "python",
   "pygments_lexer": "ipython3",
   "version": "3.7.3"
  }
 },
 "nbformat": 4,
 "nbformat_minor": 2
}
